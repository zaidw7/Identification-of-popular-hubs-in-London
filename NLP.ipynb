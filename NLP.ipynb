{
 "cells": [
  {
   "cell_type": "code",
   "execution_count": 1,
   "id": "692b5f07",
   "metadata": {},
   "outputs": [],
   "source": [
    "import numpy as np\n",
    "import pandas as pd\n",
    "from pandas import DataFrame as df\n",
    "import matplotlib.pyplot as plt\n",
    "\n",
    "import spacy\n",
    "import re\n",
    "import string\n",
    "import nltk\n",
    "from nltk.corpus import stopwords\n",
    "import wordcloud"
   ]
  },
  {
   "cell_type": "code",
   "execution_count": 2,
   "id": "d74bf815",
   "metadata": {},
   "outputs": [],
   "source": [
    "from sklearn.model_selection import train_test_split\n",
    "from sklearn import preprocessing\n",
    "from collections import Counter\n",
    "import tensorflow as tf\n",
    "from tensorflow import keras\n",
    "from keras.preprocessing.text import Tokenizer\n",
    "from keras.preprocessing.sequence import pad_sequences\n",
    "\n",
    "from sklearn.feature_extraction.text import TfidfVectorizer\n",
    "from sklearn.metrics import roc_curve\n",
    "from sklearn.metrics import roc_auc_score\n",
    "\n",
    "from tensorflow.keras import layers\n",
    "from keras.layers import Embedding, LSTM, Dense, Dropout, SpatialDropout1D\n",
    "\n",
    "from keras.initializers import Constant\n",
    "from keras.models import Sequential\n",
    "from tensorflow.keras.optimizers import Adam"
   ]
  },
  {
   "cell_type": "code",
   "execution_count": 3,
   "id": "827bb924",
   "metadata": {},
   "outputs": [],
   "source": [
    "from sklearn.model_selection import train_test_split\n",
    "from sklearn.linear_model import LogisticRegression\n",
    "from sklearn.preprocessing import StandardScaler\n",
    "from sklearn.metrics import confusion_matrix, accuracy_score, recall_score, precision_score, f1_score\n",
    "from sklearn.model_selection import GridSearchCV\n",
    "\n",
    "import warnings"
   ]
  },
  {
   "cell_type": "code",
   "execution_count": 4,
   "id": "e1b6017b",
   "metadata": {},
   "outputs": [],
   "source": [
    "from IPython.display import HTML\n",
    "def pretty_print_df(value_counts_):\n",
    "    \"Quick function to display value counts more nicely\"\n",
    "    display(HTML(pd.DataFrame(value_counts_).to_html()))"
   ]
  },
  {
   "cell_type": "code",
   "execution_count": 5,
   "id": "40b978d9",
   "metadata": {},
   "outputs": [],
   "source": [
    "plt.style.use(style=\"seaborn\")\n",
    "%matplotlib inline"
   ]
  },
  {
   "cell_type": "markdown",
   "id": "055d2e1c",
   "metadata": {},
   "source": [
    "# Data Preparation"
   ]
  },
  {
   "cell_type": "code",
   "execution_count": 6,
   "id": "2a2a21d1",
   "metadata": {},
   "outputs": [],
   "source": [
    "reviews = pd.read_csv('Reviews.csv', index_col=0)"
   ]
  },
  {
   "cell_type": "code",
   "execution_count": 7,
   "id": "09e8b8f6",
   "metadata": {},
   "outputs": [
    {
     "data": {
      "text/plain": [
       "Index(['Name', 'Address', 'Phone_Number', 'Latitude', 'Longitude', 'Rating',\n",
       "       'No_of_reviews', 'Place_ID', 'Review_text', 'Review_rate'],\n",
       "      dtype='object')"
      ]
     },
     "execution_count": 7,
     "metadata": {},
     "output_type": "execute_result"
    }
   ],
   "source": [
    "reviews.columns"
   ]
  },
  {
   "cell_type": "code",
   "execution_count": 8,
   "id": "86c72877",
   "metadata": {},
   "outputs": [],
   "source": [
    "reviews = reviews[['Review_text','Review_rate']]"
   ]
  },
  {
   "cell_type": "code",
   "execution_count": 9,
   "id": "1eff7fa0",
   "metadata": {},
   "outputs": [
    {
     "data": {
      "text/html": [
       "<div>\n",
       "<style scoped>\n",
       "    .dataframe tbody tr th:only-of-type {\n",
       "        vertical-align: middle;\n",
       "    }\n",
       "\n",
       "    .dataframe tbody tr th {\n",
       "        vertical-align: top;\n",
       "    }\n",
       "\n",
       "    .dataframe thead th {\n",
       "        text-align: right;\n",
       "    }\n",
       "</style>\n",
       "<table border=\"1\" class=\"dataframe\">\n",
       "  <thead>\n",
       "    <tr style=\"text-align: right;\">\n",
       "      <th></th>\n",
       "      <th>Review_text</th>\n",
       "      <th>Review_rate</th>\n",
       "    </tr>\n",
       "  </thead>\n",
       "  <tbody>\n",
       "    <tr>\n",
       "      <th>0</th>\n",
       "      <td>It's free..! Loads of British pictures through...</td>\n",
       "      <td>5.0</td>\n",
       "    </tr>\n",
       "    <tr>\n",
       "      <th>1</th>\n",
       "      <td>Wonderful place to spend a few hours. So much ...</td>\n",
       "      <td>5.0</td>\n",
       "    </tr>\n",
       "    <tr>\n",
       "      <th>2</th>\n",
       "      <td>Visited the amazing Life Between Islands exhib...</td>\n",
       "      <td>5.0</td>\n",
       "    </tr>\n",
       "    <tr>\n",
       "      <th>3</th>\n",
       "      <td>After up 8 floors in lift... Sorry, closed for...</td>\n",
       "      <td>1.0</td>\n",
       "    </tr>\n",
       "    <tr>\n",
       "      <th>4</th>\n",
       "      <td>Amazing to walk into the Hew Locke structure c...</td>\n",
       "      <td>5.0</td>\n",
       "    </tr>\n",
       "  </tbody>\n",
       "</table>\n",
       "</div>"
      ],
      "text/plain": [
       "                                         Review_text  Review_rate\n",
       "0  It's free..! Loads of British pictures through...          5.0\n",
       "1  Wonderful place to spend a few hours. So much ...          5.0\n",
       "2  Visited the amazing Life Between Islands exhib...          5.0\n",
       "3  After up 8 floors in lift... Sorry, closed for...          1.0\n",
       "4  Amazing to walk into the Hew Locke structure c...          5.0"
      ]
     },
     "execution_count": 9,
     "metadata": {},
     "output_type": "execute_result"
    }
   ],
   "source": [
    "reviews.head()"
   ]
  },
  {
   "cell_type": "code",
   "execution_count": 10,
   "id": "753bb813",
   "metadata": {},
   "outputs": [],
   "source": [
    "Reviews = reviews.copy() # Maintaining the original dataset"
   ]
  },
  {
   "cell_type": "code",
   "execution_count": 11,
   "id": "bdacee0e",
   "metadata": {},
   "outputs": [
    {
     "data": {
      "text/html": [
       "<div>\n",
       "<style scoped>\n",
       "    .dataframe tbody tr th:only-of-type {\n",
       "        vertical-align: middle;\n",
       "    }\n",
       "\n",
       "    .dataframe tbody tr th {\n",
       "        vertical-align: top;\n",
       "    }\n",
       "\n",
       "    .dataframe thead th {\n",
       "        text-align: right;\n",
       "    }\n",
       "</style>\n",
       "<table border=\"1\" class=\"dataframe\">\n",
       "  <thead>\n",
       "    <tr style=\"text-align: right;\">\n",
       "      <th></th>\n",
       "      <th>Review_text</th>\n",
       "      <th>Review_rate</th>\n",
       "    </tr>\n",
       "  </thead>\n",
       "  <tbody>\n",
       "    <tr>\n",
       "      <th>0</th>\n",
       "      <td>It's free..! Loads of British pictures through...</td>\n",
       "      <td>5.0</td>\n",
       "    </tr>\n",
       "    <tr>\n",
       "      <th>1</th>\n",
       "      <td>Wonderful place to spend a few hours. So much ...</td>\n",
       "      <td>5.0</td>\n",
       "    </tr>\n",
       "    <tr>\n",
       "      <th>2</th>\n",
       "      <td>Visited the amazing Life Between Islands exhib...</td>\n",
       "      <td>5.0</td>\n",
       "    </tr>\n",
       "    <tr>\n",
       "      <th>3</th>\n",
       "      <td>After up 8 floors in lift... Sorry, closed for...</td>\n",
       "      <td>1.0</td>\n",
       "    </tr>\n",
       "    <tr>\n",
       "      <th>4</th>\n",
       "      <td>Amazing to walk into the Hew Locke structure c...</td>\n",
       "      <td>5.0</td>\n",
       "    </tr>\n",
       "  </tbody>\n",
       "</table>\n",
       "</div>"
      ],
      "text/plain": [
       "                                         Review_text  Review_rate\n",
       "0  It's free..! Loads of British pictures through...          5.0\n",
       "1  Wonderful place to spend a few hours. So much ...          5.0\n",
       "2  Visited the amazing Life Between Islands exhib...          5.0\n",
       "3  After up 8 floors in lift... Sorry, closed for...          1.0\n",
       "4  Amazing to walk into the Hew Locke structure c...          5.0"
      ]
     },
     "execution_count": 11,
     "metadata": {},
     "output_type": "execute_result"
    }
   ],
   "source": [
    "Reviews.head()"
   ]
  },
  {
   "cell_type": "code",
   "execution_count": 12,
   "id": "cd8c42b5",
   "metadata": {},
   "outputs": [
    {
     "data": {
      "text/plain": [
       "Review_text    0\n",
       "Review_rate    0\n",
       "dtype: int64"
      ]
     },
     "execution_count": 12,
     "metadata": {},
     "output_type": "execute_result"
    }
   ],
   "source": [
    "reviews.isnull().sum() # Check where the nulls occur"
   ]
  },
  {
   "cell_type": "code",
   "execution_count": 13,
   "id": "45e74c7a",
   "metadata": {},
   "outputs": [
    {
     "name": "stdout",
     "output_type": "stream",
     "text": [
      "Number of duplicates: 47\n"
     ]
    }
   ],
   "source": [
    "dup = reviews.duplicated()\n",
    "c = 0\n",
    "for i in range (0,len(dup)):\n",
    "    if dup[i] == True:\n",
    "        c=c+1\n",
    "print('Number of duplicates:',c)"
   ]
  },
  {
   "cell_type": "code",
   "execution_count": 14,
   "id": "6e3055d7",
   "metadata": {},
   "outputs": [
    {
     "data": {
      "text/html": [
       "<div>\n",
       "<style scoped>\n",
       "    .dataframe tbody tr th:only-of-type {\n",
       "        vertical-align: middle;\n",
       "    }\n",
       "\n",
       "    .dataframe tbody tr th {\n",
       "        vertical-align: top;\n",
       "    }\n",
       "\n",
       "    .dataframe thead th {\n",
       "        text-align: right;\n",
       "    }\n",
       "</style>\n",
       "<table border=\"1\" class=\"dataframe\">\n",
       "  <thead>\n",
       "    <tr style=\"text-align: right;\">\n",
       "      <th></th>\n",
       "      <th>Review_rate</th>\n",
       "    </tr>\n",
       "  </thead>\n",
       "  <tbody>\n",
       "    <tr>\n",
       "      <th>count</th>\n",
       "      <td>13383.000000</td>\n",
       "    </tr>\n",
       "    <tr>\n",
       "      <th>mean</th>\n",
       "      <td>4.264888</td>\n",
       "    </tr>\n",
       "    <tr>\n",
       "      <th>std</th>\n",
       "      <td>1.281368</td>\n",
       "    </tr>\n",
       "    <tr>\n",
       "      <th>min</th>\n",
       "      <td>1.000000</td>\n",
       "    </tr>\n",
       "    <tr>\n",
       "      <th>25%</th>\n",
       "      <td>4.000000</td>\n",
       "    </tr>\n",
       "    <tr>\n",
       "      <th>50%</th>\n",
       "      <td>5.000000</td>\n",
       "    </tr>\n",
       "    <tr>\n",
       "      <th>75%</th>\n",
       "      <td>5.000000</td>\n",
       "    </tr>\n",
       "    <tr>\n",
       "      <th>max</th>\n",
       "      <td>5.000000</td>\n",
       "    </tr>\n",
       "  </tbody>\n",
       "</table>\n",
       "</div>"
      ],
      "text/plain": [
       "        Review_rate\n",
       "count  13383.000000\n",
       "mean       4.264888\n",
       "std        1.281368\n",
       "min        1.000000\n",
       "25%        4.000000\n",
       "50%        5.000000\n",
       "75%        5.000000\n",
       "max        5.000000"
      ]
     },
     "execution_count": 14,
     "metadata": {},
     "output_type": "execute_result"
    }
   ],
   "source": [
    "reviews.describe()"
   ]
  },
  {
   "cell_type": "markdown",
   "id": "430298ba",
   "metadata": {},
   "source": [
    "# Text Cleaning"
   ]
  },
  {
   "cell_type": "code",
   "execution_count": 15,
   "id": "c005c5c3",
   "metadata": {},
   "outputs": [],
   "source": [
    "# URL & HTML Removal\n",
    "def remove_URL(text):\n",
    "    url = re.compile(r\"https?://\\S+|www\\.\\S+\")\n",
    "    return url.sub(r\"\", text)\n",
    "\n",
    "def remove_html(text):\n",
    "    html = re.compile(r\"<.*?>\")\n",
    "    return html.sub(r\"\", text)"
   ]
  },
  {
   "cell_type": "code",
   "execution_count": 16,
   "id": "44e357f8",
   "metadata": {},
   "outputs": [],
   "source": [
    "# Punctuation Removal\n",
    "def remove_punct(text):\n",
    "    table = str.maketrans(\"\", \"\", string.punctuation)\n",
    "    return text.translate(table)"
   ]
  },
  {
   "cell_type": "code",
   "execution_count": 17,
   "id": "ecd1e136",
   "metadata": {},
   "outputs": [],
   "source": [
    "#Stopwords Removal\n",
    "stop = set(stopwords.words(\"english\"))\n",
    "def remove_stopwords(text):\n",
    "    text = [word.lower() for word in text.split() if word.lower() not in stop]\n",
    "\n",
    "    return \" \".join(text)"
   ]
  },
  {
   "cell_type": "code",
   "execution_count": 18,
   "id": "4c157fc2",
   "metadata": {},
   "outputs": [],
   "source": [
    "reviews[\"Review_text\"] = reviews[\"Review_text\"].map(lambda x: remove_URL(x))\n",
    "reviews[\"Review_text\"] = reviews[\"Review_text\"].map(lambda x: remove_html(x))\n",
    "reviews[\"Review_text\"] = reviews[\"Review_text\"].map(lambda x: remove_punct(x))\n",
    "reviews[\"Review_text\"] = reviews[\"Review_text\"].map(remove_stopwords)\n",
    "reviews['Review_text'] = reviews['Review_text'].apply(lambda x: nltk.WordNetLemmatizer().lemmatize(x)) # Lemmatizing JIC"
   ]
  },
  {
   "cell_type": "code",
   "execution_count": 19,
   "id": "851059fb",
   "metadata": {},
   "outputs": [
    {
     "data": {
      "text/html": [
       "<div>\n",
       "<style scoped>\n",
       "    .dataframe tbody tr th:only-of-type {\n",
       "        vertical-align: middle;\n",
       "    }\n",
       "\n",
       "    .dataframe tbody tr th {\n",
       "        vertical-align: top;\n",
       "    }\n",
       "\n",
       "    .dataframe thead th {\n",
       "        text-align: right;\n",
       "    }\n",
       "</style>\n",
       "<table border=\"1\" class=\"dataframe\">\n",
       "  <thead>\n",
       "    <tr style=\"text-align: right;\">\n",
       "      <th></th>\n",
       "      <th>Review_text</th>\n",
       "      <th>Review_rate</th>\n",
       "    </tr>\n",
       "  </thead>\n",
       "  <tbody>\n",
       "    <tr>\n",
       "      <th>0</th>\n",
       "      <td>free loads british pictures centuries lots loo...</td>\n",
       "      <td>5.0</td>\n",
       "    </tr>\n",
       "    <tr>\n",
       "      <th>1</th>\n",
       "      <td>wonderful place spend hours much see free much...</td>\n",
       "      <td>5.0</td>\n",
       "    </tr>\n",
       "    <tr>\n",
       "      <th>2</th>\n",
       "      <td>visited amazing life islands exhibition tate b...</td>\n",
       "      <td>5.0</td>\n",
       "    </tr>\n",
       "    <tr>\n",
       "      <th>3</th>\n",
       "      <td>8 floors lift sorry closed private function da...</td>\n",
       "      <td>1.0</td>\n",
       "    </tr>\n",
       "    <tr>\n",
       "      <th>4</th>\n",
       "      <td>amazing walk hew locke structure called proces...</td>\n",
       "      <td>5.0</td>\n",
       "    </tr>\n",
       "  </tbody>\n",
       "</table>\n",
       "</div>"
      ],
      "text/plain": [
       "                                         Review_text  Review_rate\n",
       "0  free loads british pictures centuries lots loo...          5.0\n",
       "1  wonderful place spend hours much see free much...          5.0\n",
       "2  visited amazing life islands exhibition tate b...          5.0\n",
       "3  8 floors lift sorry closed private function da...          1.0\n",
       "4  amazing walk hew locke structure called proces...          5.0"
      ]
     },
     "execution_count": 19,
     "metadata": {},
     "output_type": "execute_result"
    }
   ],
   "source": [
    "reviews.head()"
   ]
  },
  {
   "cell_type": "code",
   "execution_count": 20,
   "id": "c54ad2ec",
   "metadata": {},
   "outputs": [
    {
     "data": {
      "text/html": [
       "<div>\n",
       "<style scoped>\n",
       "    .dataframe tbody tr th:only-of-type {\n",
       "        vertical-align: middle;\n",
       "    }\n",
       "\n",
       "    .dataframe tbody tr th {\n",
       "        vertical-align: top;\n",
       "    }\n",
       "\n",
       "    .dataframe thead th {\n",
       "        text-align: right;\n",
       "    }\n",
       "</style>\n",
       "<table border=\"1\" class=\"dataframe\">\n",
       "  <thead>\n",
       "    <tr style=\"text-align: right;\">\n",
       "      <th></th>\n",
       "      <th>Review_text</th>\n",
       "      <th>Review_rate</th>\n",
       "    </tr>\n",
       "  </thead>\n",
       "  <tbody>\n",
       "    <tr>\n",
       "      <th>0</th>\n",
       "      <td>It's free..! Loads of British pictures through...</td>\n",
       "      <td>5.0</td>\n",
       "    </tr>\n",
       "    <tr>\n",
       "      <th>1</th>\n",
       "      <td>Wonderful place to spend a few hours. So much ...</td>\n",
       "      <td>5.0</td>\n",
       "    </tr>\n",
       "    <tr>\n",
       "      <th>2</th>\n",
       "      <td>Visited the amazing Life Between Islands exhib...</td>\n",
       "      <td>5.0</td>\n",
       "    </tr>\n",
       "    <tr>\n",
       "      <th>3</th>\n",
       "      <td>After up 8 floors in lift... Sorry, closed for...</td>\n",
       "      <td>1.0</td>\n",
       "    </tr>\n",
       "    <tr>\n",
       "      <th>4</th>\n",
       "      <td>Amazing to walk into the Hew Locke structure c...</td>\n",
       "      <td>5.0</td>\n",
       "    </tr>\n",
       "  </tbody>\n",
       "</table>\n",
       "</div>"
      ],
      "text/plain": [
       "                                         Review_text  Review_rate\n",
       "0  It's free..! Loads of British pictures through...          5.0\n",
       "1  Wonderful place to spend a few hours. So much ...          5.0\n",
       "2  Visited the amazing Life Between Islands exhib...          5.0\n",
       "3  After up 8 floors in lift... Sorry, closed for...          1.0\n",
       "4  Amazing to walk into the Hew Locke structure c...          5.0"
      ]
     },
     "execution_count": 20,
     "metadata": {},
     "output_type": "execute_result"
    }
   ],
   "source": [
    "Reviews.head()"
   ]
  },
  {
   "cell_type": "markdown",
   "id": "dfd65b0e",
   "metadata": {},
   "source": [
    "# Feature Engineering"
   ]
  },
  {
   "cell_type": "code",
   "execution_count": 21,
   "id": "99164d59",
   "metadata": {},
   "outputs": [],
   "source": [
    "def sentiments(df):\n",
    "    if df['Review_rate'] > 3.0:\n",
    "        return 'Positive'\n",
    "    elif df['Review_rate'] < 3.0:\n",
    "        return 'Negative'\n",
    "    else: return 'Neutral'"
   ]
  },
  {
   "cell_type": "code",
   "execution_count": 22,
   "id": "b9281334",
   "metadata": {},
   "outputs": [],
   "source": [
    "reviews[\"length\"] = reviews['Review_text'].map(lambda x: len(x))\n",
    "reviews[\"word_count\"] = reviews['Review_text'].str.split().map(lambda x: len(x))\n",
    "reviews['sentiment'] = reviews.apply(sentiments, axis=1)"
   ]
  },
  {
   "cell_type": "code",
   "execution_count": 23,
   "id": "36db5525",
   "metadata": {},
   "outputs": [
    {
     "data": {
      "text/html": [
       "<div>\n",
       "<style scoped>\n",
       "    .dataframe tbody tr th:only-of-type {\n",
       "        vertical-align: middle;\n",
       "    }\n",
       "\n",
       "    .dataframe tbody tr th {\n",
       "        vertical-align: top;\n",
       "    }\n",
       "\n",
       "    .dataframe thead th {\n",
       "        text-align: right;\n",
       "    }\n",
       "</style>\n",
       "<table border=\"1\" class=\"dataframe\">\n",
       "  <thead>\n",
       "    <tr style=\"text-align: right;\">\n",
       "      <th></th>\n",
       "      <th>Review_rate</th>\n",
       "      <th>length</th>\n",
       "      <th>word_count</th>\n",
       "    </tr>\n",
       "  </thead>\n",
       "  <tbody>\n",
       "    <tr>\n",
       "      <th>count</th>\n",
       "      <td>13383.0</td>\n",
       "      <td>13383.0</td>\n",
       "      <td>13383.0</td>\n",
       "    </tr>\n",
       "    <tr>\n",
       "      <th>mean</th>\n",
       "      <td>4.3</td>\n",
       "      <td>155.8</td>\n",
       "      <td>22.9</td>\n",
       "    </tr>\n",
       "    <tr>\n",
       "      <th>std</th>\n",
       "      <td>1.3</td>\n",
       "      <td>152.6</td>\n",
       "      <td>22.3</td>\n",
       "    </tr>\n",
       "    <tr>\n",
       "      <th>min</th>\n",
       "      <td>1.0</td>\n",
       "      <td>0.0</td>\n",
       "      <td>0.0</td>\n",
       "    </tr>\n",
       "    <tr>\n",
       "      <th>25%</th>\n",
       "      <td>4.0</td>\n",
       "      <td>57.0</td>\n",
       "      <td>9.0</td>\n",
       "    </tr>\n",
       "    <tr>\n",
       "      <th>50%</th>\n",
       "      <td>5.0</td>\n",
       "      <td>116.0</td>\n",
       "      <td>17.0</td>\n",
       "    </tr>\n",
       "    <tr>\n",
       "      <th>75%</th>\n",
       "      <td>5.0</td>\n",
       "      <td>205.0</td>\n",
       "      <td>30.0</td>\n",
       "    </tr>\n",
       "    <tr>\n",
       "      <th>max</th>\n",
       "      <td>5.0</td>\n",
       "      <td>3088.0</td>\n",
       "      <td>443.0</td>\n",
       "    </tr>\n",
       "  </tbody>\n",
       "</table>\n",
       "</div>"
      ],
      "text/plain": [
       "      Review_rate   length word_count\n",
       "count     13383.0  13383.0    13383.0\n",
       "mean          4.3    155.8       22.9\n",
       "std           1.3    152.6       22.3\n",
       "min           1.0      0.0        0.0\n",
       "25%           4.0     57.0        9.0\n",
       "50%           5.0    116.0       17.0\n",
       "75%           5.0    205.0       30.0\n",
       "max           5.0   3088.0      443.0"
      ]
     },
     "execution_count": 23,
     "metadata": {},
     "output_type": "execute_result"
    }
   ],
   "source": [
    "reviews.describe().apply(lambda s: s.apply('{0:.1f}'.format))"
   ]
  },
  {
   "cell_type": "code",
   "execution_count": 24,
   "id": "06725b47",
   "metadata": {},
   "outputs": [
    {
     "data": {
      "text/html": [
       "<table border=\"1\" class=\"dataframe\">\n",
       "  <thead>\n",
       "    <tr style=\"text-align: right;\">\n",
       "      <th></th>\n",
       "      <th>Review_rate</th>\n",
       "    </tr>\n",
       "  </thead>\n",
       "  <tbody>\n",
       "    <tr>\n",
       "      <th>5.0</th>\n",
       "      <td>8977</td>\n",
       "    </tr>\n",
       "    <tr>\n",
       "      <th>4.0</th>\n",
       "      <td>1951</td>\n",
       "    </tr>\n",
       "    <tr>\n",
       "      <th>1.0</th>\n",
       "      <td>1274</td>\n",
       "    </tr>\n",
       "    <tr>\n",
       "      <th>3.0</th>\n",
       "      <td>752</td>\n",
       "    </tr>\n",
       "    <tr>\n",
       "      <th>2.0</th>\n",
       "      <td>429</td>\n",
       "    </tr>\n",
       "  </tbody>\n",
       "</table>"
      ],
      "text/plain": [
       "<IPython.core.display.HTML object>"
      ]
     },
     "metadata": {},
     "output_type": "display_data"
    }
   ],
   "source": [
    "stars = reviews['Review_rate'].value_counts()\n",
    "pretty_print_df(stars)"
   ]
  },
  {
   "cell_type": "code",
   "execution_count": 25,
   "id": "51634e3a",
   "metadata": {},
   "outputs": [
    {
     "data": {
      "image/png": "[encoded data removed]",
      "text/plain": [
       "<Figure size 1800x504 with 1 Axes>"
      ]
     },
     "metadata": {
      "needs_background": "light"
     },
     "output_type": "display_data"
    }
   ],
   "source": [
    "plt.figure(1, figsize=(25, 7))\n",
    "plt.subplot(1, 2, 1)\n",
    "_ = plt.bar([\"1 Star\", \"2 Stars\", \"3 Stars\", \"4 Stars\", \"5 Stars\"], [stars[1],stars[2],stars[3],stars[4],stars[5]])\n",
    "plt.savefig('Star Distribution.pdf')\n",
    "plt.show()"
   ]
  },
  {
   "cell_type": "code",
   "execution_count": 26,
   "id": "36a1bc7f",
   "metadata": {},
   "outputs": [
    {
     "data": {
      "image/png": "[encoded data removed]",
      "text/plain": [
       "<Figure size 1080x504 with 1 Axes>"
      ]
     },
     "metadata": {
      "needs_background": "light"
     },
     "output_type": "display_data"
    }
   ],
   "source": [
    "# All\n",
    "x = reviews.loc[reviews['sentiment'] == 'Positive']\n",
    "y = reviews.loc[reviews['sentiment'] == 'Negative']\n",
    "z = reviews.loc[reviews['sentiment'] == 'Neutral']\n",
    "\n",
    "plt.figure(1, figsize=(15, 7))\n",
    "plt.subplot(1, 2, 1)\n",
    "_ = plt.bar([\"Positive\", \"Neutral\" ,\"Negative\"], [x.shape[0],z.shape[0],y.shape[0]])\n",
    "plt.savefig('Sentiment Distribution.pdf')\n",
    "plt.show()"
   ]
  },
  {
   "cell_type": "code",
   "execution_count": 27,
   "id": "f88f2bd2",
   "metadata": {},
   "outputs": [
    {
     "data": {
      "image/png": "[encoded data removed]",
      "text/plain": [
       "<Figure size 1440x504 with 1 Axes>"
      ]
     },
     "metadata": {
      "needs_background": "light"
     },
     "output_type": "display_data"
    }
   ],
   "source": [
    "plt.figure(1, figsize=(20, 7))\n",
    "common_words=''\n",
    "for i in reviews.Review_text:\n",
    "    i = str(i)\n",
    "    tokens = i.split()\n",
    "    common_words += \" \".join(tokens)+\" \"\n",
    "wordcloud = wordcloud.WordCloud().generate(common_words)\n",
    "plt.imshow(wordcloud, interpolation='bilinear')\n",
    "plt.axis(\"off\")\n",
    "plt.savefig('Wordcloud.pdf')\n",
    "plt.show()"
   ]
  },
  {
   "cell_type": "markdown",
   "id": "d7b42bef",
   "metadata": {},
   "source": [
    "# NLP Preparation"
   ]
  },
  {
   "cell_type": "code",
   "execution_count": 28,
   "id": "782b1cd3",
   "metadata": {},
   "outputs": [],
   "source": [
    "# 2 for Positive (4 & 5 Stars), 1 for Neutral (3 Stars) ,0 for Negative (1 & 2 Stars)\n",
    "se = preprocessing.LabelEncoder()\n",
    "\n",
    "s = reviews.sentiment\n",
    "enc_s = se.fit_transform(s)"
   ]
  },
  {
   "cell_type": "code",
   "execution_count": 29,
   "id": "437af11d",
   "metadata": {},
   "outputs": [
    {
     "data": {
      "text/html": [
       "<div>\n",
       "<style scoped>\n",
       "    .dataframe tbody tr th:only-of-type {\n",
       "        vertical-align: middle;\n",
       "    }\n",
       "\n",
       "    .dataframe tbody tr th {\n",
       "        vertical-align: top;\n",
       "    }\n",
       "\n",
       "    .dataframe thead th {\n",
       "        text-align: right;\n",
       "    }\n",
       "</style>\n",
       "<table border=\"1\" class=\"dataframe\">\n",
       "  <thead>\n",
       "    <tr style=\"text-align: right;\">\n",
       "      <th></th>\n",
       "      <th>Text</th>\n",
       "      <th>Rate</th>\n",
       "      <th>Sentiment</th>\n",
       "    </tr>\n",
       "  </thead>\n",
       "  <tbody>\n",
       "    <tr>\n",
       "      <th>0</th>\n",
       "      <td>free loads british pictures centuries lots loo...</td>\n",
       "      <td>5.0</td>\n",
       "      <td>2</td>\n",
       "    </tr>\n",
       "    <tr>\n",
       "      <th>1</th>\n",
       "      <td>wonderful place spend hours much see free much...</td>\n",
       "      <td>5.0</td>\n",
       "      <td>2</td>\n",
       "    </tr>\n",
       "    <tr>\n",
       "      <th>2</th>\n",
       "      <td>visited amazing life islands exhibition tate b...</td>\n",
       "      <td>5.0</td>\n",
       "      <td>2</td>\n",
       "    </tr>\n",
       "    <tr>\n",
       "      <th>3</th>\n",
       "      <td>8 floors lift sorry closed private function da...</td>\n",
       "      <td>1.0</td>\n",
       "      <td>0</td>\n",
       "    </tr>\n",
       "    <tr>\n",
       "      <th>4</th>\n",
       "      <td>amazing walk hew locke structure called proces...</td>\n",
       "      <td>5.0</td>\n",
       "      <td>2</td>\n",
       "    </tr>\n",
       "    <tr>\n",
       "      <th>...</th>\n",
       "      <td>...</td>\n",
       "      <td>...</td>\n",
       "      <td>...</td>\n",
       "    </tr>\n",
       "    <tr>\n",
       "      <th>13378</th>\n",
       "      <td>nice bar friendly staff prices steep</td>\n",
       "      <td>4.0</td>\n",
       "      <td>2</td>\n",
       "    </tr>\n",
       "    <tr>\n",
       "      <th>13379</th>\n",
       "      <td>great service great cocktails</td>\n",
       "      <td>5.0</td>\n",
       "      <td>2</td>\n",
       "    </tr>\n",
       "    <tr>\n",
       "      <th>13380</th>\n",
       "      <td>great atmosphere lovely staff</td>\n",
       "      <td>5.0</td>\n",
       "      <td>2</td>\n",
       "    </tr>\n",
       "    <tr>\n",
       "      <th>13381</th>\n",
       "      <td>amazing bar staff friendly good drinks</td>\n",
       "      <td>5.0</td>\n",
       "      <td>2</td>\n",
       "    </tr>\n",
       "    <tr>\n",
       "      <th>13382</th>\n",
       "      <td>jamie absolute gem company hell host barman ab...</td>\n",
       "      <td>5.0</td>\n",
       "      <td>2</td>\n",
       "    </tr>\n",
       "  </tbody>\n",
       "</table>\n",
       "<p>13383 rows × 3 columns</p>\n",
       "</div>"
      ],
      "text/plain": [
       "                                                    Text  Rate  Sentiment\n",
       "0      free loads british pictures centuries lots loo...   5.0          2\n",
       "1      wonderful place spend hours much see free much...   5.0          2\n",
       "2      visited amazing life islands exhibition tate b...   5.0          2\n",
       "3      8 floors lift sorry closed private function da...   1.0          0\n",
       "4      amazing walk hew locke structure called proces...   5.0          2\n",
       "...                                                  ...   ...        ...\n",
       "13378               nice bar friendly staff prices steep   4.0          2\n",
       "13379                      great service great cocktails   5.0          2\n",
       "13380                      great atmosphere lovely staff   5.0          2\n",
       "13381             amazing bar staff friendly good drinks   5.0          2\n",
       "13382  jamie absolute gem company hell host barman ab...   5.0          2\n",
       "\n",
       "[13383 rows x 3 columns]"
      ]
     },
     "execution_count": 29,
     "metadata": {},
     "output_type": "execute_result"
    }
   ],
   "source": [
    "ML = df({\n",
    "    'Text': reviews.Review_text,\n",
    "    'Rate': reviews.Review_rate,\n",
    "    'Sentiment': enc_s,\n",
    "})\n",
    "ML"
   ]
  },
  {
   "cell_type": "code",
   "execution_count": 30,
   "id": "e665824c",
   "metadata": {},
   "outputs": [],
   "source": [
    "from nltk.stem.porter import PorterStemmer\n",
    "from nltk.tokenize import TreebankWordTokenizer\n",
    "tokenizer2 = TreebankWordTokenizer()\n",
    "\n",
    "stemmer = PorterStemmer()\n",
    "\n",
    "\n",
    "def stemming(text):\n",
    "    text = [stemmer.stem(word) for word in text.split()]\n",
    "\n",
    "    return \" \".join(text)"
   ]
  },
  {
   "cell_type": "code",
   "execution_count": 31,
   "id": "0de5b65c",
   "metadata": {},
   "outputs": [],
   "source": [
    "ML[\"Text\"] = ML[\"Text\"].map(stemming)"
   ]
  },
  {
   "cell_type": "code",
   "execution_count": 32,
   "id": "994ea8d7",
   "metadata": {},
   "outputs": [
    {
     "data": {
      "text/html": [
       "<div>\n",
       "<style scoped>\n",
       "    .dataframe tbody tr th:only-of-type {\n",
       "        vertical-align: middle;\n",
       "    }\n",
       "\n",
       "    .dataframe tbody tr th {\n",
       "        vertical-align: top;\n",
       "    }\n",
       "\n",
       "    .dataframe thead th {\n",
       "        text-align: right;\n",
       "    }\n",
       "</style>\n",
       "<table border=\"1\" class=\"dataframe\">\n",
       "  <thead>\n",
       "    <tr style=\"text-align: right;\">\n",
       "      <th></th>\n",
       "      <th>Rate</th>\n",
       "      <th>Sentiment</th>\n",
       "    </tr>\n",
       "  </thead>\n",
       "  <tbody>\n",
       "    <tr>\n",
       "      <th>count</th>\n",
       "      <td>13383.000000</td>\n",
       "      <td>13383.000000</td>\n",
       "    </tr>\n",
       "    <tr>\n",
       "      <th>mean</th>\n",
       "      <td>4.264888</td>\n",
       "      <td>1.689307</td>\n",
       "    </tr>\n",
       "    <tr>\n",
       "      <th>std</th>\n",
       "      <td>1.281368</td>\n",
       "      <td>0.684616</td>\n",
       "    </tr>\n",
       "    <tr>\n",
       "      <th>min</th>\n",
       "      <td>1.000000</td>\n",
       "      <td>0.000000</td>\n",
       "    </tr>\n",
       "    <tr>\n",
       "      <th>25%</th>\n",
       "      <td>4.000000</td>\n",
       "      <td>2.000000</td>\n",
       "    </tr>\n",
       "    <tr>\n",
       "      <th>50%</th>\n",
       "      <td>5.000000</td>\n",
       "      <td>2.000000</td>\n",
       "    </tr>\n",
       "    <tr>\n",
       "      <th>75%</th>\n",
       "      <td>5.000000</td>\n",
       "      <td>2.000000</td>\n",
       "    </tr>\n",
       "    <tr>\n",
       "      <th>max</th>\n",
       "      <td>5.000000</td>\n",
       "      <td>2.000000</td>\n",
       "    </tr>\n",
       "  </tbody>\n",
       "</table>\n",
       "</div>"
      ],
      "text/plain": [
       "               Rate     Sentiment\n",
       "count  13383.000000  13383.000000\n",
       "mean       4.264888      1.689307\n",
       "std        1.281368      0.684616\n",
       "min        1.000000      0.000000\n",
       "25%        4.000000      2.000000\n",
       "50%        5.000000      2.000000\n",
       "75%        5.000000      2.000000\n",
       "max        5.000000      2.000000"
      ]
     },
     "execution_count": 32,
     "metadata": {},
     "output_type": "execute_result"
    }
   ],
   "source": [
    "ML.describe()"
   ]
  },
  {
   "cell_type": "markdown",
   "id": "c98a1d33",
   "metadata": {},
   "source": [
    "Count Unique"
   ]
  },
  {
   "cell_type": "code",
   "execution_count": 33,
   "id": "ecb5e116",
   "metadata": {},
   "outputs": [],
   "source": [
    "count = Counter()\n",
    "for i in ML.Text.values:\n",
    "    for word in i.split():\n",
    "        count[word] += 1"
   ]
  },
  {
   "cell_type": "code",
   "execution_count": 34,
   "id": "ad86149d",
   "metadata": {},
   "outputs": [
    {
     "data": {
      "text/plain": [
       "15926"
      ]
     },
     "execution_count": 34,
     "metadata": {},
     "output_type": "execute_result"
    }
   ],
   "source": [
    "wordcount = len(count)\n",
    "wordcount"
   ]
  },
  {
   "cell_type": "markdown",
   "id": "5454b33e",
   "metadata": {},
   "source": [
    "Data Splitting"
   ]
  },
  {
   "cell_type": "code",
   "execution_count": 35,
   "id": "73c529e9",
   "metadata": {},
   "outputs": [],
   "source": [
    "train_size = int(ML.shape[0] * 0.8)\n",
    "\n",
    "train = ML.Text[:train_size]\n",
    "train_labels = ML.Rate[:train_size]\n",
    "\n",
    "test = ML.Text[train_size:]\n",
    "test_labels = ML.Rate[train_size:]"
   ]
  },
  {
   "cell_type": "markdown",
   "id": "2c094f7c",
   "metadata": {},
   "source": [
    "Tokenizing"
   ]
  },
  {
   "cell_type": "code",
   "execution_count": 36,
   "id": "b9f64e20",
   "metadata": {},
   "outputs": [],
   "source": [
    "tokenizer = Tokenizer(num_words=wordcount)\n",
    "tokenizer.fit_on_texts(train)\n",
    "word_index = tokenizer.word_index"
   ]
  },
  {
   "cell_type": "code",
   "execution_count": 37,
   "id": "b7de5b9e",
   "metadata": {},
   "outputs": [
    {
     "name": "stdout",
     "output_type": "stream",
     "text": [
      "Number of unique words: 13954\n"
     ]
    }
   ],
   "source": [
    "print(\"Number of unique words:\", len(word_index))"
   ]
  },
  {
   "cell_type": "markdown",
   "id": "412a494f",
   "metadata": {},
   "source": [
    "Seq & Pad"
   ]
  },
  {
   "cell_type": "code",
   "execution_count": 38,
   "id": "930b1bb0",
   "metadata": {},
   "outputs": [],
   "source": [
    "train_seq = tokenizer.texts_to_sequences(train)\n",
    "\n",
    "max_len = 100\n",
    "train_padded = pad_sequences(train_seq, maxlen=max_len, truncating=\"post\", padding=\"post\")"
   ]
  },
  {
   "cell_type": "code",
   "execution_count": 39,
   "id": "4be70adc",
   "metadata": {},
   "outputs": [],
   "source": [
    "test_seq = tokenizer.texts_to_sequences(test)\n",
    "test_padded = pad_sequences(test_seq, maxlen=max_len, padding=\"post\", truncating=\"post\")"
   ]
  },
  {
   "cell_type": "markdown",
   "id": "d352a1ce",
   "metadata": {},
   "source": [
    "Inv & Decode"
   ]
  },
  {
   "cell_type": "code",
   "execution_count": 40,
   "id": "ac67b803",
   "metadata": {},
   "outputs": [],
   "source": [
    "# Decoding function\n",
    "def decode(text):\n",
    "    return \" \".join([reverse_word_index.get(i, \"?\") for i in text])"
   ]
  },
  {
   "cell_type": "code",
   "execution_count": 41,
   "id": "7151a891",
   "metadata": {},
   "outputs": [],
   "source": [
    "reverse_word_index = dict([(value, key) for (key, value) in word_index.items()])"
   ]
  },
  {
   "cell_type": "code",
   "execution_count": 42,
   "id": "4030c100",
   "metadata": {},
   "outputs": [
    {
     "name": "stdout",
     "output_type": "stream",
     "text": [
      "visit pub recent realli pleasant time serv staci warm friendli made us laugh got us tabl made realli comfort us get drink despit bust great way start even ahead show plan\n",
      "[18, 70, 392, 14, 279, 10, 101, 7122, 258, 9, 72, 34, 1123, 89, 34, 104, 72, 14, 135, 34, 21, 43, 568, 3197, 1, 103, 237, 26, 1828, 207, 589]\n"
     ]
    }
   ],
   "source": [
    "# Checking a random sample\n",
    "print(ML.Text[172])\n",
    "print(train_seq[172])"
   ]
  },
  {
   "cell_type": "code",
   "execution_count": 43,
   "id": "20ab5f45",
   "metadata": {},
   "outputs": [
    {
     "data": {
      "text/plain": [
       "'visit pub recent realli pleasant time serv staci warm friendli made us laugh got us tabl made realli comfort us get drink despit bust great way start even ahead show plan'"
      ]
     },
     "execution_count": 43,
     "metadata": {},
     "output_type": "execute_result"
    }
   ],
   "source": [
    "decode(train_seq[172])"
   ]
  },
  {
   "cell_type": "markdown",
   "id": "c31c3a5d",
   "metadata": {},
   "source": [
    "MC LR Rate"
   ]
  },
  {
   "cell_type": "code",
   "execution_count": 44,
   "id": "218ebcc1",
   "metadata": {},
   "outputs": [],
   "source": [
    "def evaluate_classifier(grid, X_train, y_train, X_test, y_test):\n",
    "    # model evaluation for training set\n",
    "    y_train_predict = grid.predict(X_train)\n",
    "    print(\"Training SET\")\n",
    "    print(\"--------------------------------------\")\n",
    "    print('Accuracy: {:.3f}, Precision: {:.3f}, Recall: {:.3f}, F1 Score: {:.3f}'.format(accuracy_score(y_train, y_train_predict), \n",
    "                                                                                        precision_score(y_train, y_train_predict, average='weighted'), \n",
    "                                                                                        recall_score(y_train, y_train_predict, average='weighted'), \n",
    "                                                                                        f1_score(y_train, y_train_predict,average='weighted')))\n",
    "    print(\"Confusion Matrix:\\n {}\".format(confusion_matrix(y_train, y_train_predict)))\n",
    "\n",
    "    # model evaluation for testing set\n",
    "    y_test_predict = grid.predict(X_test)\n",
    "\n",
    "    print(\"\\nTesting SET\")\n",
    "    print(\"--------------------------------------\")\n",
    "    print('Accuracy: {:.3f}, Precision: {:.3f}, Recall: {:.3f}, F1 Score: {:.3f}'.format(accuracy_score(y_test, y_test_predict), \n",
    "                                                                                        precision_score(y_test, y_test_predict, average='weighted'), \n",
    "                                                                                        recall_score(y_test, y_test_predict, average='weighted'), \n",
    "                                                                                        f1_score(y_test, y_test_predict, average='weighted')))\n",
    "    print(\"Confusion Matrix:\\n {}\".format(confusion_matrix(y_test, y_test_predict)))\n",
    "    return y_train_predict, y_test_predict"
   ]
  },
  {
   "cell_type": "code",
   "execution_count": 45,
   "id": "c8cb9791",
   "metadata": {},
   "outputs": [],
   "source": [
    "def tfidf(data, ngrams=(1, 2)):\n",
    "    tfidf_vectorizer = TfidfVectorizer(ngram_range=ngrams)\n",
    "    train = tfidf_vectorizer.fit_transform(data)\n",
    "\n",
    "    return train, tfidf_vectorizer"
   ]
  },
  {
   "cell_type": "code",
   "execution_count": 46,
   "id": "00bb8a4c",
   "metadata": {},
   "outputs": [],
   "source": [
    "train_tfidf, tfidf_vectorizer = tfidf(train)\n",
    "test_tfidf = tfidf_vectorizer.transform(test)"
   ]
  },
  {
   "cell_type": "code",
   "execution_count": 47,
   "id": "ac64e87b",
   "metadata": {},
   "outputs": [
    {
     "data": {
      "text/plain": [
       "LogisticRegression(class_weight='balanced', max_iter=1000)"
      ]
     },
     "execution_count": 47,
     "metadata": {},
     "output_type": "execute_result"
    }
   ],
   "source": [
    "model = LogisticRegression(class_weight=\"balanced\", max_iter=1000)\n",
    "model.fit(train_tfidf, train_labels)"
   ]
  },
  {
   "cell_type": "code",
   "execution_count": 48,
   "id": "e2de72ed",
   "metadata": {},
   "outputs": [
    {
     "name": "stdout",
     "output_type": "stream",
     "text": [
      "Model F1-Score: 68.81686378947428 %\n",
      "Model Accuracy: 68.43481509152036 %\n"
     ]
    }
   ],
   "source": [
    "y_pred = model.predict(test_tfidf)\n",
    "f1score = f1_score(test_labels, y_pred, average='weighted')\n",
    "accuracy = accuracy_score(test_labels, y_pred)\n",
    "\n",
    "print(f\"Model F1-Score: {f1score * 100} %\")\n",
    "print(f\"Model Accuracy: {accuracy * 100} %\")"
   ]
  },
  {
   "cell_type": "code",
   "execution_count": 49,
   "id": "8ac3e64b",
   "metadata": {},
   "outputs": [
    {
     "name": "stdout",
     "output_type": "stream",
     "text": [
      "Training SET\n",
      "--------------------------------------\n",
      "Accuracy: 0.921, Precision: 0.935, Recall: 0.921, F1 Score: 0.924\n",
      "Confusion Matrix:\n",
      " [[1019    1    0    1    8]\n",
      " [   0  349    1    0    0]\n",
      " [   0    0  588    2    5]\n",
      " [   5    0    8 1484   60]\n",
      " [  99    4   71  583 6418]]\n",
      "\n",
      "Testing SET\n",
      "--------------------------------------\n",
      "Accuracy: 0.684, Precision: 0.701, Recall: 0.684, F1 Score: 0.688\n",
      "Confusion Matrix:\n",
      " [[ 198   15   10   10   12]\n",
      " [  29    6   15   19   10]\n",
      " [  22   11   23   68   33]\n",
      " [  26    4   21  172  171]\n",
      " [  49    4   41  275 1433]]\n"
     ]
    }
   ],
   "source": [
    "y_train_predict, y_test_predict = evaluate_classifier(model, train_tfidf, train_labels, test_tfidf, test_labels)"
   ]
  },
  {
   "cell_type": "code",
   "execution_count": 50,
   "id": "ca43ddcf",
   "metadata": {},
   "outputs": [
    {
     "name": "stdout",
     "output_type": "stream",
     "text": [
      "Original Text:\n",
      " Was very delicious. Specially meats and cold starters are perfect. Service was perfect too friendly and smiley staff. Highly recommended  to anyone who loves Mediterranean cuisine.\n",
      "Real Score: 5.0\n",
      "Predicted Score: 5.0\n",
      "----------------------------------------\n",
      "Original Text:\n",
      " Lovely food! We had the cold starters and family platter which we all enjoyed! Waiting staff were friendly, however -1 star for the man with glasses and light blue shirt who I suppose is the owner/manager, as he came across a bit cold and we felt like he was ignoring us, perhaps deliberately? Also they weren't serving any baklava which was a tad disappointing.\n",
      "Real Score: 4.0\n",
      "Predicted Score: 3.0\n",
      "----------------------------------------\n",
      "Original Text:\n",
      " For a spontaneous lunch idea it was great. Wasn't that busy as it was Sunday midday and they had probably just opened. The workers were lovely and friendly. The mint lemonade was great for the hot day! I had the tribute burger. As burgers go it was good, nothing to shout about, but there rosemary triple cooked chips and onion rings are life! All came out fresh and piping hot, and I have to admit these were the best onion rings I have ever had. Would definitely like to go again and try out the other burgers\n",
      "Real Score: 5.0\n",
      "Predicted Score: 5.0\n",
      "----------------------------------------\n",
      "Original Text:\n",
      " I came earlier today to get something to eat around 2pm. I've been here several times before and the food and service is always top notch. From what I saw today, there was only one person on the floor serving food and drinks. She was professional and fast, even with the restaurant being fairly busy. Even still, the food was great as always and I'll definitely be returning again!\n",
      "Real Score: 4.0\n",
      "Predicted Score: 5.0\n",
      "----------------------------------------\n",
      "Original Text:\n",
      " Good burger, a bit too small, love Rosemary's fries but they are not consistent with quality, frying time, salt. I wish they had more dessert options, and buffalo wings could come with blue cheese sauce. The service is always good. Update: service always lovely. Taste of burgers always good, fried came without rosemary salt so they discounted the bill, very fair. Really good and improving.\n",
      "Real Score: 5.0\n",
      "Predicted Score: 4.0\n",
      "----------------------------------------\n",
      "Original Text:\n",
      " Love this sustainable burger joint that partners with farmers who use regenerative practices!! There is a reason they are famous for their rosemary chips (fries) - super yummy!!! Made from real potatoes. Kids loved their children’s meal with burger, fries and lemonade. My husband raves about his Moroccan burger. And I devoured my chicken pesto burger. So good and good for the earth!\n",
      "Real Score: 5.0\n",
      "Predicted Score: 4.0\n",
      "----------------------------------------\n",
      "Original Text:\n",
      " Had a long walk from London Bridge to North Greenwich.\r\n",
      "\r\n",
      "Honest Burger makes delicious wholesome meals with flavoursome Rosemary Flavour Fries (yum yum).\r\n",
      "\r\n",
      "Had the special tonight and it was delicious, washed down with a locally brewed cider.\r\n",
      "\r\n",
      "Nice food, restaurant and staff.\n",
      "Real Score: 5.0\n",
      "Predicted Score: 5.0\n",
      "----------------------------------------\n",
      "Original Text:\n",
      " I had the Korean fried chicken bao bun and a side of chips. The fried chicken was stone cold and covered in a sickly sweet bright red sauce that completely ruined it. Also they served the bao in a paper bag and the bao stuck to the paper bag so that it completely tore apart when I tried to take it out and was impossible to eat. The chips were also served in a paper bag. They need to get better serveware. The chips were fine.\n",
      "Real Score: 1.0\n",
      "Predicted Score: 2.0\n",
      "----------------------------------------\n",
      "Original Text:\n",
      " I love their ramen burger 🤩\n",
      "Real Score: 5.0\n",
      "Predicted Score: 5.0\n",
      "----------------------------------------\n",
      "Original Text:\n",
      " Satisfying, delicious, always go for the classic!\n",
      "Real Score: 4.0\n",
      "Predicted Score: 5.0\n",
      "----------------------------------------\n"
     ]
    }
   ],
   "source": [
    "for i in range (train_size, train_size+10):\n",
    "    print('Original Text:\\n',Reviews.Review_text[i])\n",
    "    print('Real Score:',test_labels[i])\n",
    "    print('Predicted Score:', y_pred[i-train_size])\n",
    "    print('----------------------------------------')"
   ]
  },
  {
   "cell_type": "markdown",
   "id": "e13937a5",
   "metadata": {},
   "source": [
    "MC liblinear LR Rate"
   ]
  },
  {
   "cell_type": "code",
   "execution_count": 51,
   "id": "2dcfbb0f",
   "metadata": {},
   "outputs": [],
   "source": [
    "train_size = int(ML.shape[0] * 0.8)\n",
    "\n",
    "train = ML.Text[:train_size]\n",
    "train_labels = ML.Rate[:train_size]\n",
    "\n",
    "test = ML.Text[train_size:]\n",
    "test_labels = ML.Rate[train_size:]"
   ]
  },
  {
   "cell_type": "code",
   "execution_count": 52,
   "id": "79c4eed0",
   "metadata": {},
   "outputs": [],
   "source": [
    "train_tfidf, tfidf_vectorizer = tfidf(train)\n",
    "test_tfidf = tfidf_vectorizer.transform(test)"
   ]
  },
  {
   "cell_type": "code",
   "execution_count": 53,
   "id": "3a6d560f",
   "metadata": {},
   "outputs": [
    {
     "data": {
      "text/plain": [
       "LogisticRegression(class_weight='balanced', solver='liblinear')"
      ]
     },
     "execution_count": 53,
     "metadata": {},
     "output_type": "execute_result"
    }
   ],
   "source": [
    "model = LogisticRegression(class_weight=\"balanced\", solver='liblinear', penalty='l2')\n",
    "model.fit(train_tfidf, train_labels)"
   ]
  },
  {
   "cell_type": "code",
   "execution_count": 54,
   "id": "81bbcb5d",
   "metadata": {},
   "outputs": [
    {
     "name": "stdout",
     "output_type": "stream",
     "text": [
      "Model F1-Score: 69.31964986247239 %\n",
      "Model Accuracy: 73.29099738513261 %\n"
     ]
    }
   ],
   "source": [
    "y_pred = model.predict(test_tfidf)\n",
    "f1score = f1_score(test_labels, y_pred, average='weighted')\n",
    "accuracy = accuracy_score(test_labels, y_pred)\n",
    "\n",
    "print(f\"Model F1-Score: {f1score * 100} %\")\n",
    "print(f\"Model Accuracy: {accuracy * 100} %\")"
   ]
  },
  {
   "cell_type": "code",
   "execution_count": 55,
   "id": "103bc087",
   "metadata": {},
   "outputs": [
    {
     "name": "stdout",
     "output_type": "stream",
     "text": [
      "Training SET\n",
      "--------------------------------------\n",
      "Accuracy: 0.929, Precision: 0.928, Recall: 0.929, F1 Score: 0.926\n",
      "Confusion Matrix:\n",
      " [[1000    2    2    1   24]\n",
      " [   5  343    1    1    0]\n",
      " [   3    1  556    5   30]\n",
      " [   7    0    7 1039  504]\n",
      " [  30    0   18  115 7012]]\n",
      "\n",
      "Testing SET\n",
      "--------------------------------------\n",
      "Accuracy: 0.733, Precision: 0.674, Recall: 0.733, F1 Score: 0.693\n",
      "Confusion Matrix:\n",
      " [[ 188    9    8    6   34]\n",
      " [  29    5    5   10   30]\n",
      " [  19    6   15   40   77]\n",
      " [  17    3   14   80  280]\n",
      " [  28    1   16   83 1674]]\n"
     ]
    }
   ],
   "source": [
    "y_train_predict, y_test_predict = evaluate_classifier(model, train_tfidf, train_labels, test_tfidf, test_labels)"
   ]
  },
  {
   "cell_type": "code",
   "execution_count": 57,
   "id": "e89160e5",
   "metadata": {},
   "outputs": [
    {
     "name": "stdout",
     "output_type": "stream",
     "text": [
      "Original Text:\n",
      " Didn't get the ramen burger as I'm a lover of bao was went for the two veggie bao options! The tofu was nice and crispy but I felt it needed some more sauce or flavour. The quinoa, pumpkin bao on the other hand was perfect! Really fresh and flavourful!\n",
      "Real Score: 4.0\n",
      "Predicted Score: 5.0\n",
      "----------------------------------------\n",
      "Original Text:\n",
      " They’re ok. The melted cheese was the tastiest part of the Classic Burger. The veggie option was pretty good.\n",
      "Real Score: 3.0\n",
      "Predicted Score: 3.0\n",
      "----------------------------------------\n",
      "Original Text:\n",
      " Our fave place in Greenwich! Amazing food, music and people. Always so welcoming. My partner and I go here all the time. We attempt to try new places and always keep ending up back here. 110% recommend.\n",
      "Real Score: 5.0\n",
      "Predicted Score: 5.0\n",
      "----------------------------------------\n",
      "Original Text:\n",
      " Lovely Place.\r\n",
      "Food Cooked To Perfection.\r\n",
      "Friendly Staff.\r\n",
      "Toilets Available.\r\n",
      "Bus Stop Nearby.\r\n",
      "I Had A Chicken Burger Which Was A Proper Chicken Fillet Inside A BIG Bun.\r\n",
      "Highly Recommended\r\n",
      "1000*\n",
      "Real Score: 5.0\n",
      "Predicted Score: 5.0\n",
      "----------------------------------------\n",
      "Original Text:\n",
      " This is my fifth visit eating in here and very much enjoyed the experience again.\r\n",
      "\r\n",
      "The food is not just high quality, but consistently high quality. The portions are healthily sized with plenty of meat, especially in the chicken and lamb shish.\r\n",
      "\r\n",
      "Both Ryan and Ugur and waited on me with excellent service. I really enjoy Ryan, as he’s adventurous with his cocktails, witty, and genuinely enjoys service.\r\n",
      "\r\n",
      "If you’re around the Cutty Sark part of Greenwich, I highly recommend stopping in for a meal and a drink. It is a solid local choice that won’t leave you disappointed.\n",
      "Real Score: 5.0\n",
      "Predicted Score: 5.0\n",
      "----------------------------------------\n",
      "Original Text:\n",
      " Having been around Greenwich for 13 years, I popped in for the first time for a full English on a Friday lunchtime and I can't for life of me work out why I've never been in here before. The breakfast was awesome. There was no messing around debating a change of item like a nearby cafe did, straight away it was no problem. Waitress was extremely polite and friendly, replacing a knife I dropped within seconds of the clatter being heard. Food was relatively quick, and the chairs are the nicest chairs I've had in a cafe, ever. Will definitely be back.\n",
      "Real Score: 5.0\n",
      "Predicted Score: 5.0\n",
      "----------------------------------------\n",
      "Original Text:\n",
      " Far best small and charming restaurant in Greenwich I have ever visited. From exceptional food, amazing natural orange juice to friendly staff. I liked the touch of oriental style. And the last, but not the least:  the far best caffè, during my stay in London. Will be back for sure!\n",
      "Real Score: 5.0\n",
      "Predicted Score: 5.0\n",
      "----------------------------------------\n",
      "Original Text:\n",
      " This branch is typically very busy because this is a tourist area and popular with locals too. You can't book a table but Nando's is relatively fast food so even on a busy Saturday evening the wait was estimated to be 30 minutes but we only waited 15. They take your phone number and text you when your table is available. We chose this branch specifically so we could sit on the terrace but they claimed the terrace was closed, however when I went to the bathroom upstairs I could see plenty of people dining on terrace. I'm assuming they were allowing people to finish eating up there but not letting new people up. The staff here are friendly and professional. The food came hot and fresh but the meals for our table came at different times. You can order/pay at the counter or scan the QR code attached to your table, which will take you to the menu and you order online and they bring your order to your table. The scan and order here is a little glitchy and I recommend all food is ordered from the same device which will make things a lot smoother. The food at this branch is slightly better than average Nando's which is very good considering how busy they are.\n",
      "Real Score: 3.0\n",
      "Predicted Score: 2.0\n",
      "----------------------------------------\n",
      "Original Text:\n",
      " Usually a good restaurant. At the weekend however this restaurant is operating at a very slow pace which leads to waiting times over one hour. It is understandable that a restaurant can have waiting times but the fact that they even have to tell customers that they need to wait for at least one hour even though not all tables are being served, is quite miserable.\n",
      "Real Score: 2.0\n",
      "Predicted Score: 1.0\n",
      "----------------------------------------\n",
      "Original Text:\n",
      " Bad service. Waited a while to be seated and upon being seated there were no napkins, no cutlery on the table like other tables. Waiter kept referring to their closing time (which was fine because we had an 1hr n 20 mins). Asked the same waiter for an item 3 times and he just ignored us. I would glance over and he’d just be wondering around. I asked another colleague to get what I asked him. Whole service felt rushed to get others out. Not coming back to this particular branch.\n",
      "Real Score: 1.0\n",
      "Predicted Score: 1.0\n",
      "----------------------------------------\n"
     ]
    }
   ],
   "source": [
    "for i in range (train_size+10, train_size+20):\n",
    "    print('Original Text:\\n',Reviews.Review_text[i])\n",
    "    print('Real Score:',test_labels[i])\n",
    "    print('Predicted Score:', y_pred[i-train_size])\n",
    "    print('----------------------------------------')"
   ]
  },
  {
   "cell_type": "markdown",
   "id": "bd982e6a",
   "metadata": {},
   "source": [
    "MC LR Sentiment"
   ]
  },
  {
   "cell_type": "code",
   "execution_count": 59,
   "id": "c1d68571",
   "metadata": {},
   "outputs": [],
   "source": [
    "train_size = int(ML.shape[0] * 0.8)\n",
    "\n",
    "train = ML.Text[:train_size]\n",
    "train_labels = ML.Sentiment[:train_size]\n",
    "\n",
    "test = ML.Text[train_size:]\n",
    "test_labels = ML.Sentiment[train_size:]"
   ]
  },
  {
   "cell_type": "code",
   "execution_count": 60,
   "id": "492bf120",
   "metadata": {},
   "outputs": [],
   "source": [
    "train_tfidf, tfidf_vectorizer = tfidf(train)\n",
    "test_tfidf = tfidf_vectorizer.transform(test)"
   ]
  },
  {
   "cell_type": "code",
   "execution_count": 61,
   "id": "a3c5793c",
   "metadata": {},
   "outputs": [
    {
     "data": {
      "text/plain": [
       "LogisticRegression(class_weight='balanced', max_iter=1000)"
      ]
     },
     "execution_count": 61,
     "metadata": {},
     "output_type": "execute_result"
    }
   ],
   "source": [
    "model = LogisticRegression(class_weight=\"balanced\", max_iter=1000)\n",
    "model.fit(train_tfidf, train_labels)"
   ]
  },
  {
   "cell_type": "code",
   "execution_count": 62,
   "id": "ee2ca7ab",
   "metadata": {},
   "outputs": [
    {
     "name": "stdout",
     "output_type": "stream",
     "text": [
      "Model F1-Score: 87.14113823035318 %\n",
      "Model Accuracy: 87.22450504295853 %\n"
     ]
    }
   ],
   "source": [
    "y_pred = model.predict(test_tfidf)\n",
    "f1score = f1_score(test_labels, y_pred, average='weighted')\n",
    "accuracy = accuracy_score(test_labels, y_pred)\n",
    "\n",
    "print(f\"Model F1-Score: {f1score * 100} %\")\n",
    "print(f\"Model Accuracy: {accuracy * 100} %\")"
   ]
  },
  {
   "cell_type": "code",
   "execution_count": 63,
   "id": "c9c96080",
   "metadata": {},
   "outputs": [
    {
     "name": "stdout",
     "output_type": "stream",
     "text": [
      "Training SET\n",
      "--------------------------------------\n",
      "Accuracy: 0.977, Precision: 0.979, Recall: 0.977, F1 Score: 0.977\n",
      "Confusion Matrix:\n",
      " [[1369    2    8]\n",
      " [   0  590    5]\n",
      " [ 111  123 8498]]\n",
      "\n",
      "Testing SET\n",
      "--------------------------------------\n",
      "Accuracy: 0.872, Precision: 0.872, Recall: 0.872, F1 Score: 0.871\n",
      "Confusion Matrix:\n",
      " [[ 255   21   48]\n",
      " [  40   38   79]\n",
      " [  77   77 2042]]\n"
     ]
    }
   ],
   "source": [
    "y_train_predict, y_test_predict = evaluate_classifier(model, train_tfidf, train_labels, test_tfidf, test_labels)"
   ]
  },
  {
   "cell_type": "code",
   "execution_count": 73,
   "id": "51d2a509",
   "metadata": {},
   "outputs": [
    {
     "name": "stdout",
     "output_type": "stream",
     "text": [
      "Original Text:\n",
      " Was very delicious. Specially meats and cold starters are perfect. Service was perfect too friendly and smiley staff. Highly recommended  to anyone who loves Mediterranean cuisine.\n",
      "Real Sentiment: ['Positive']\n",
      "Predicted Score: ['Positive']\n",
      "----------------------------------------\n",
      "Original Text:\n",
      " Lovely food! We had the cold starters and family platter which we all enjoyed! Waiting staff were friendly, however -1 star for the man with glasses and light blue shirt who I suppose is the owner/manager, as he came across a bit cold and we felt like he was ignoring us, perhaps deliberately? Also they weren't serving any baklava which was a tad disappointing.\n",
      "Real Sentiment: ['Positive']\n",
      "Predicted Score: ['Neutral']\n",
      "----------------------------------------\n",
      "Original Text:\n",
      " For a spontaneous lunch idea it was great. Wasn't that busy as it was Sunday midday and they had probably just opened. The workers were lovely and friendly. The mint lemonade was great for the hot day! I had the tribute burger. As burgers go it was good, nothing to shout about, but there rosemary triple cooked chips and onion rings are life! All came out fresh and piping hot, and I have to admit these were the best onion rings I have ever had. Would definitely like to go again and try out the other burgers\n",
      "Real Sentiment: ['Positive']\n",
      "Predicted Score: ['Positive']\n",
      "----------------------------------------\n",
      "Original Text:\n",
      " I came earlier today to get something to eat around 2pm. I've been here several times before and the food and service is always top notch. From what I saw today, there was only one person on the floor serving food and drinks. She was professional and fast, even with the restaurant being fairly busy. Even still, the food was great as always and I'll definitely be returning again!\n",
      "Real Sentiment: ['Positive']\n",
      "Predicted Score: ['Positive']\n",
      "----------------------------------------\n",
      "Original Text:\n",
      " Good burger, a bit too small, love Rosemary's fries but they are not consistent with quality, frying time, salt. I wish they had more dessert options, and buffalo wings could come with blue cheese sauce. The service is always good. Update: service always lovely. Taste of burgers always good, fried came without rosemary salt so they discounted the bill, very fair. Really good and improving.\n",
      "Real Sentiment: ['Positive']\n",
      "Predicted Score: ['Positive']\n",
      "----------------------------------------\n",
      "Original Text:\n",
      " Love this sustainable burger joint that partners with farmers who use regenerative practices!! There is a reason they are famous for their rosemary chips (fries) - super yummy!!! Made from real potatoes. Kids loved their children’s meal with burger, fries and lemonade. My husband raves about his Moroccan burger. And I devoured my chicken pesto burger. So good and good for the earth!\n",
      "Real Sentiment: ['Positive']\n",
      "Predicted Score: ['Positive']\n",
      "----------------------------------------\n",
      "Original Text:\n",
      " Had a long walk from London Bridge to North Greenwich.\r\n",
      "\r\n",
      "Honest Burger makes delicious wholesome meals with flavoursome Rosemary Flavour Fries (yum yum).\r\n",
      "\r\n",
      "Had the special tonight and it was delicious, washed down with a locally brewed cider.\r\n",
      "\r\n",
      "Nice food, restaurant and staff.\n",
      "Real Sentiment: ['Positive']\n",
      "Predicted Score: ['Positive']\n",
      "----------------------------------------\n",
      "Original Text:\n",
      " I had the Korean fried chicken bao bun and a side of chips. The fried chicken was stone cold and covered in a sickly sweet bright red sauce that completely ruined it. Also they served the bao in a paper bag and the bao stuck to the paper bag so that it completely tore apart when I tried to take it out and was impossible to eat. The chips were also served in a paper bag. They need to get better serveware. The chips were fine.\n",
      "Real Sentiment: ['Negative']\n",
      "Predicted Score: ['Negative']\n",
      "----------------------------------------\n",
      "Original Text:\n",
      " I love their ramen burger 🤩\n",
      "Real Sentiment: ['Positive']\n",
      "Predicted Score: ['Positive']\n",
      "----------------------------------------\n",
      "Original Text:\n",
      " Satisfying, delicious, always go for the classic!\n",
      "Real Sentiment: ['Positive']\n",
      "Predicted Score: ['Positive']\n",
      "----------------------------------------\n"
     ]
    }
   ],
   "source": [
    "for i in range (train_size, train_size+10):\n",
    "    print('Original Text:\\n',Reviews.Review_text[i])\n",
    "    print('Real Sentiment:',se.inverse_transform([test_labels[i]]))\n",
    "    print('Predicted Score:', se.inverse_transform([y_pred[i-train_size]]))\n",
    "    print('----------------------------------------')"
   ]
  },
  {
   "cell_type": "markdown",
   "id": "5baaf74c",
   "metadata": {},
   "source": [
    "MC Liblinear LR Sentiment"
   ]
  },
  {
   "cell_type": "code",
   "execution_count": null,
   "id": "d7097d2e",
   "metadata": {},
   "outputs": [],
   "source": [
    "train_size = int(ML.shape[0] * 0.8)\n",
    "\n",
    "train = ML.Text[:train_size]\n",
    "train_labels = ML.Sentiment[:train_size]\n",
    "\n",
    "test = ML.Text[train_size:]\n",
    "test_labels = ML.Sentiment[train_size:]"
   ]
  },
  {
   "cell_type": "code",
   "execution_count": null,
   "id": "2dc52fc6",
   "metadata": {},
   "outputs": [],
   "source": [
    "train_tfidf, tfidf_vectorizer = tfidf(train)\n",
    "test_tfidf = tfidf_vectorizer.transform(test)"
   ]
  },
  {
   "cell_type": "code",
   "execution_count": 74,
   "id": "c25eefa3",
   "metadata": {},
   "outputs": [
    {
     "data": {
      "text/plain": [
       "LogisticRegression(class_weight='balanced', solver='liblinear')"
      ]
     },
     "execution_count": 74,
     "metadata": {},
     "output_type": "execute_result"
    }
   ],
   "source": [
    "model = LogisticRegression(class_weight=\"balanced\", solver='liblinear', penalty='l2')\n",
    "model.fit(train_tfidf, train_labels)"
   ]
  },
  {
   "cell_type": "code",
   "execution_count": 75,
   "id": "2d6cdf19",
   "metadata": {},
   "outputs": [
    {
     "name": "stdout",
     "output_type": "stream",
     "text": [
      "Model F1-Score: 86.4393224597665 %\n",
      "Model Accuracy: 88.6066492342174 %\n"
     ]
    }
   ],
   "source": [
    "y_pred = model.predict(test_tfidf)\n",
    "f1score = f1_score(test_labels, y_pred, average='weighted')\n",
    "accuracy = accuracy_score(test_labels, y_pred)\n",
    "\n",
    "print(f\"Model F1-Score: {f1score * 100} %\")\n",
    "print(f\"Model Accuracy: {accuracy * 100} %\")"
   ]
  },
  {
   "cell_type": "code",
   "execution_count": 76,
   "id": "728b22a0",
   "metadata": {},
   "outputs": [
    {
     "name": "stdout",
     "output_type": "stream",
     "text": [
      "Training SET\n",
      "--------------------------------------\n",
      "Accuracy: 0.980, Precision: 0.980, Recall: 0.980, F1 Score: 0.979\n",
      "Confusion Matrix:\n",
      " [[1273    3  103]\n",
      " [   6  518   71]\n",
      " [  25   10 8697]]\n",
      "\n",
      "Testing SET\n",
      "--------------------------------------\n",
      "Accuracy: 0.886, Precision: 0.855, Recall: 0.886, F1 Score: 0.864\n",
      "Confusion Matrix:\n",
      " [[ 218    7   99]\n",
      " [  26    9  122]\n",
      " [  36   15 2145]]\n"
     ]
    }
   ],
   "source": [
    "y_train_predict, y_test_predict = evaluate_classifier(model, train_tfidf, train_labels, test_tfidf, test_labels)"
   ]
  },
  {
   "cell_type": "code",
   "execution_count": 77,
   "id": "6b62b297",
   "metadata": {},
   "outputs": [
    {
     "name": "stdout",
     "output_type": "stream",
     "text": [
      "Original Text:\n",
      " Was very delicious. Specially meats and cold starters are perfect. Service was perfect too friendly and smiley staff. Highly recommended  to anyone who loves Mediterranean cuisine.\n",
      "Real Sentiment: ['Positive']\n",
      "Predicted Score: ['Positive']\n",
      "----------------------------------------\n",
      "Original Text:\n",
      " Lovely food! We had the cold starters and family platter which we all enjoyed! Waiting staff were friendly, however -1 star for the man with glasses and light blue shirt who I suppose is the owner/manager, as he came across a bit cold and we felt like he was ignoring us, perhaps deliberately? Also they weren't serving any baklava which was a tad disappointing.\n",
      "Real Sentiment: ['Positive']\n",
      "Predicted Score: ['Positive']\n",
      "----------------------------------------\n",
      "Original Text:\n",
      " For a spontaneous lunch idea it was great. Wasn't that busy as it was Sunday midday and they had probably just opened. The workers were lovely and friendly. The mint lemonade was great for the hot day! I had the tribute burger. As burgers go it was good, nothing to shout about, but there rosemary triple cooked chips and onion rings are life! All came out fresh and piping hot, and I have to admit these were the best onion rings I have ever had. Would definitely like to go again and try out the other burgers\n",
      "Real Sentiment: ['Positive']\n",
      "Predicted Score: ['Positive']\n",
      "----------------------------------------\n",
      "Original Text:\n",
      " I came earlier today to get something to eat around 2pm. I've been here several times before and the food and service is always top notch. From what I saw today, there was only one person on the floor serving food and drinks. She was professional and fast, even with the restaurant being fairly busy. Even still, the food was great as always and I'll definitely be returning again!\n",
      "Real Sentiment: ['Positive']\n",
      "Predicted Score: ['Positive']\n",
      "----------------------------------------\n",
      "Original Text:\n",
      " Good burger, a bit too small, love Rosemary's fries but they are not consistent with quality, frying time, salt. I wish they had more dessert options, and buffalo wings could come with blue cheese sauce. The service is always good. Update: service always lovely. Taste of burgers always good, fried came without rosemary salt so they discounted the bill, very fair. Really good and improving.\n",
      "Real Sentiment: ['Positive']\n",
      "Predicted Score: ['Positive']\n",
      "----------------------------------------\n",
      "Original Text:\n",
      " Love this sustainable burger joint that partners with farmers who use regenerative practices!! There is a reason they are famous for their rosemary chips (fries) - super yummy!!! Made from real potatoes. Kids loved their children’s meal with burger, fries and lemonade. My husband raves about his Moroccan burger. And I devoured my chicken pesto burger. So good and good for the earth!\n",
      "Real Sentiment: ['Positive']\n",
      "Predicted Score: ['Positive']\n",
      "----------------------------------------\n",
      "Original Text:\n",
      " Had a long walk from London Bridge to North Greenwich.\r\n",
      "\r\n",
      "Honest Burger makes delicious wholesome meals with flavoursome Rosemary Flavour Fries (yum yum).\r\n",
      "\r\n",
      "Had the special tonight and it was delicious, washed down with a locally brewed cider.\r\n",
      "\r\n",
      "Nice food, restaurant and staff.\n",
      "Real Sentiment: ['Positive']\n",
      "Predicted Score: ['Positive']\n",
      "----------------------------------------\n",
      "Original Text:\n",
      " I had the Korean fried chicken bao bun and a side of chips. The fried chicken was stone cold and covered in a sickly sweet bright red sauce that completely ruined it. Also they served the bao in a paper bag and the bao stuck to the paper bag so that it completely tore apart when I tried to take it out and was impossible to eat. The chips were also served in a paper bag. They need to get better serveware. The chips were fine.\n",
      "Real Sentiment: ['Negative']\n",
      "Predicted Score: ['Negative']\n",
      "----------------------------------------\n",
      "Original Text:\n",
      " I love their ramen burger 🤩\n",
      "Real Sentiment: ['Positive']\n",
      "Predicted Score: ['Positive']\n",
      "----------------------------------------\n",
      "Original Text:\n",
      " Satisfying, delicious, always go for the classic!\n",
      "Real Sentiment: ['Positive']\n",
      "Predicted Score: ['Positive']\n",
      "----------------------------------------\n"
     ]
    }
   ],
   "source": [
    "for i in range (train_size, train_size+10):\n",
    "    print('Original Text:\\n',Reviews.Review_text[i])\n",
    "    print('Real Sentiment:',se.inverse_transform([test_labels[i]]))\n",
    "    print('Predicted Score:', se.inverse_transform([y_pred[i-train_size]]))\n",
    "    print('----------------------------------------')"
   ]
  }
 ],
 "metadata": {
  "kernelspec": {
   "display_name": "Python 3",
   "language": "python",
   "name": "python3"
  },
  "language_info": {
   "codemirror_mode": {
    "name": "ipython",
    "version": 3
   },
   "file_extension": ".py",
   "mimetype": "text/x-python",
   "name": "python",
   "nbconvert_exporter": "python",
   "pygments_lexer": "ipython3",
   "version": "3.8.8"
  }
 },
 "nbformat": 4,
 "nbformat_minor": 5
}
